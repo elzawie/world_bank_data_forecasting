{
 "cells": [
  {
   "cell_type": "markdown",
   "metadata": {},
   "source": [
    "# General overview\n",
    "\n",
    "-----------------------------------------------------------------------------------------------------------------\n",
    "The following Jupyter notebook was created in order to automate the process of generating and visualizing forecasts for the macroeconomic indicators using historical time series retrieved using World Bank's Indicators API. Forecast will be generated using ARIMA, SARIMA or SARIMAX model, depending on the suggestion given by the Auto ARIMA library."
   ]
  },
  {
   "cell_type": "markdown",
   "metadata": {},
   "source": [
    "# Import libraries and set display options"
   ]
  },
  {
   "cell_type": "code",
   "execution_count": 6,
   "metadata": {},
   "outputs": [],
   "source": [
    "import json\n",
    "import numpy as np\n",
    "import pandas as pd\n",
    "from pmdarima.arima import auto_arima\n",
    "from retrieval_funcs import create_world_bank_api_url_string, retrieve_url_content\n",
    "from preprocessing_funcs import convert_bytes_to_unicode, extract_dates_and_values_from_json\n",
    "\n",
    "\n",
    "# Set pandas data display options\n",
    "pd.set_option('display.float_format', lambda x: '%.3f' % x)"
   ]
  },
  {
   "cell_type": "markdown",
   "metadata": {},
   "source": [
    "# Script parameters  "
   ]
  },
  {
   "cell_type": "markdown",
   "metadata": {},
   "source": [
    "Please provide the country and economic indicator codes for which you would like to generate the forecast"
   ]
  },
  {
   "cell_type": "code",
   "execution_count": 3,
   "metadata": {},
   "outputs": [],
   "source": [
    "COUNTRY_CODE = 'afg'\n",
    "INDICATOR_CODE = 'NY.GDP.MKTP.CN'"
   ]
  },
  {
   "cell_type": "markdown",
   "metadata": {},
   "source": [
    "# Retrieve and preprocess data "
   ]
  },
  {
   "cell_type": "code",
   "execution_count": 4,
   "metadata": {},
   "outputs": [],
   "source": [
    "# Create query string used to retrieve the data using World Bank's Indicators API\n",
    "query_string = create_world_bank_api_url_string(COUNTRY_CODE, INDICATOR_CODE)\n",
    "\n",
    "# Retrieve data \n",
    "data = retrieve_url_content(query_string)\n",
    "\n",
    "# Convert retrieved data represented as bytes object to JSON\n",
    "json_string = convert_bytes_to_unicode(data)\n",
    "json = json.loads(json_string)\n",
    "\n",
    "# Extract dates and values from JSON\n",
    "dates, values = extract_dates_and_values_from_json(json)\n",
    "\n",
    "# Create DataFrame object using dates and values\n",
    "time_series_df = pd.DataFrame.from_dict({\"Date\": dates, \"Value\": values})\n",
    "\n",
    "# Change index to Date column\n",
    "time_series_df.set_index('Date', inplace=True)"
   ]
  },
  {
   "cell_type": "markdown",
   "metadata": {},
   "source": [
    "### Missing values check"
   ]
  },
  {
   "cell_type": "markdown",
   "metadata": {},
   "source": [
    "Now it's time to check if our time series has any missing values, and if so, save this information for later to use Kalman smoother with the model suggested by the Auto Arima library. Using Auto Arima should help us to make this script applicable to different time series."
   ]
  },
  {
   "cell_type": "code",
   "execution_count": 5,
   "metadata": {},
   "outputs": [],
   "source": [
    "# Constant variable storing information about the missing values\n",
    "HAS_MISSING = False\n",
    "\n",
    "# Set HAS_MISSING to True if there are any missing values\n",
    "if time_series_df.isnull().sum().sum() > 0:\n",
    "    HAS_MISSING = True\n",
    "else:\n",
    "    pass"
   ]
  },
  {
   "cell_type": "markdown",
   "metadata": {},
   "source": [
    "# Forecasting with Auto ARIMA"
   ]
  },
  {
   "cell_type": "markdown",
   "metadata": {},
   "source": [
    "Using Auto ARIMA library will speed up the forecasting process because the data preparation and parameter tuning processes for ARIMA, SARIMA and SARIMAX models end up being really time consuming. Auto ARIMA makes forecast preparation much simpler, because it:\n",
    "\n",
    "<ul>\n",
    "    <ul>\n",
    "        <li> Performs data stationarity checks\n",
    "        <li> Determines the <b>d</b> value which stands for the number of times the differencing operation has to be applied to the time series to make it stationary\n",
    "        <li> Handles hyperparameter selection for models, hence saves us from doing this manually by looking at the ACF and PACF plots\n",
    "        <li> Choses most accurate forecasting model for the given time series\n",
    "    </ul>\n",
    "</ul>\n"
   ]
  },
  {
   "cell_type": "code",
   "execution_count": 9,
   "metadata": {},
   "outputs": [],
   "source": [
    "step_wise_model_selection = auto_arima(np.array(time_series_df['Value']),\n",
    "                                       start_p=1,\n",
    "                                       start_q=1,\n",
    "                                       max_p=6,\n",
    "                                       max_q=6,\n",
    "                                       max_d=3,\n",
    "                                       max_P=3,\n",
    "                                       max_Q=3,\n",
    "                                       trace=True,\n",
    "                                       error_action='ignore',\n",
    "                                       suppress_warnings=True,\n",
    "                                       stepwise=True\n",
    "                                      )"
   ]
  }
 ],
 "metadata": {
  "kernelspec": {
   "display_name": "Python 3",
   "language": "python",
   "name": "python3"
  },
  "language_info": {
   "codemirror_mode": {
    "name": "ipython",
    "version": 3
   },
   "file_extension": ".py",
   "mimetype": "text/x-python",
   "name": "python",
   "nbconvert_exporter": "python",
   "pygments_lexer": "ipython3",
   "version": "3.7.6"
  }
 },
 "nbformat": 4,
 "nbformat_minor": 4
}
